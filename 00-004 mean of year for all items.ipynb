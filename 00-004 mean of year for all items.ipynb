{
 "cells": [
  {
   "cell_type": "code",
   "execution_count": 1,
   "id": "73c4abd6",
   "metadata": {},
   "outputs": [],
   "source": [
    "import numpy as np\n",
    "import pandas as pd\n",
    "import seaborn as sns"
   ]
  },
  {
   "cell_type": "code",
   "execution_count": 2,
   "id": "ab6c2206",
   "metadata": {},
   "outputs": [],
   "source": [
    "names = pd.read_csv(\"./new data/name.csv\")[\"name\"]"
   ]
  },
  {
   "cell_type": "code",
   "execution_count": 3,
   "id": "38b8bc8c",
   "metadata": {},
   "outputs": [
    {
     "data": {
      "text/html": [
       "<div>\n",
       "<style scoped>\n",
       "    .dataframe tbody tr th:only-of-type {\n",
       "        vertical-align: middle;\n",
       "    }\n",
       "\n",
       "    .dataframe tbody tr th {\n",
       "        vertical-align: top;\n",
       "    }\n",
       "\n",
       "    .dataframe thead th {\n",
       "        text-align: right;\n",
       "    }\n",
       "</style>\n",
       "<table border=\"1\" class=\"dataframe\">\n",
       "  <thead>\n",
       "    <tr style=\"text-align: right;\">\n",
       "      <th></th>\n",
       "      <th></th>\n",
       "      <th>mean of closed price</th>\n",
       "    </tr>\n",
       "    <tr>\n",
       "      <th>Company</th>\n",
       "      <th>Year</th>\n",
       "      <th></th>\n",
       "    </tr>\n",
       "  </thead>\n",
       "  <tbody>\n",
       "    <tr>\n",
       "      <th rowspan=\"5\" valign=\"top\">ABSAL</th>\n",
       "      <th>1397</th>\n",
       "      <td>378.516955</td>\n",
       "    </tr>\n",
       "    <tr>\n",
       "      <th>1398</th>\n",
       "      <td>3090.722941</td>\n",
       "    </tr>\n",
       "    <tr>\n",
       "      <th>1399</th>\n",
       "      <td>5643.340535</td>\n",
       "    </tr>\n",
       "    <tr>\n",
       "      <th>1400</th>\n",
       "      <td>4864.995649</td>\n",
       "    </tr>\n",
       "    <tr>\n",
       "      <th>1401</th>\n",
       "      <td>4434.931345</td>\n",
       "    </tr>\n",
       "    <tr>\n",
       "      <th>...</th>\n",
       "      <th>...</th>\n",
       "      <td>...</td>\n",
       "    </tr>\n",
       "    <tr>\n",
       "      <th rowspan=\"5\" valign=\"top\">TKOMBA</th>\n",
       "      <th>1398</th>\n",
       "      <td>2668.595168</td>\n",
       "    </tr>\n",
       "    <tr>\n",
       "      <th>1399</th>\n",
       "      <td>10734.456255</td>\n",
       "    </tr>\n",
       "    <tr>\n",
       "      <th>1400</th>\n",
       "      <td>5077.325983</td>\n",
       "    </tr>\n",
       "    <tr>\n",
       "      <th>1401</th>\n",
       "      <td>4332.444412</td>\n",
       "    </tr>\n",
       "    <tr>\n",
       "      <th>1402</th>\n",
       "      <td>7136.141488</td>\n",
       "    </tr>\n",
       "  </tbody>\n",
       "</table>\n",
       "<p>504 rows × 1 columns</p>\n",
       "</div>"
      ],
      "text/plain": [
       "              mean of closed price\n",
       "Company Year                      \n",
       "ABSAL   1397            378.516955\n",
       "        1398           3090.722941\n",
       "        1399           5643.340535\n",
       "        1400           4864.995649\n",
       "        1401           4434.931345\n",
       "...                            ...\n",
       "TKOMBA  1398           2668.595168\n",
       "        1399          10734.456255\n",
       "        1400           5077.325983\n",
       "        1401           4332.444412\n",
       "        1402           7136.141488\n",
       "\n",
       "[504 rows x 1 columns]"
      ]
     },
     "execution_count": 3,
     "metadata": {},
     "output_type": "execute_result"
    }
   ],
   "source": [
    "final_df = pd.read_csv(\"./new data/output/processed/final_df_mean_of_closed.csv\", index_col=[\"Company\", \"Year\"])\n",
    "for name in names:\n",
    "    df = pd.read_csv(f\"./new data/output/{name}.csv\", usecols=[\"PDate\", \"ClosePrice\"])\n",
    "    i = 0\n",
    "    years_list = [\"1397\",\"1398\",\"1399\",\"1400\",\"1401\",\"1402\"]\n",
    "    years = {}\n",
    "    for date in df[\"PDate\"]:\n",
    "        date = str(date)\n",
    "        if date[:4] in years.keys():\n",
    "            years[date[:4]].append(df.loc[i].ClosePrice)\n",
    "        elif date[:4] not in years.keys() and date[:4] in years_list:\n",
    "            years[date[:4]] = [df.loc[i].ClosePrice]\n",
    "        else:\n",
    "            pass\n",
    "        i +=1\n",
    "    i = 0\n",
    "    for key, value in years.items():\n",
    "        seri = pd.Series(value)\n",
    "        final_df.at[(name,int(key)), \"mean of closed price\"] = seri.mean()\n",
    "        i +=1\n",
    "final_df"
   ]
  },
  {
   "cell_type": "code",
   "execution_count": 4,
   "id": "5ea0c4d4",
   "metadata": {},
   "outputs": [],
   "source": [
    "final_df.to_csv(\"./new data/output/processed/mean_of_closed_years_all_items.csv\")"
   ]
  },
  {
   "cell_type": "code",
   "execution_count": null,
   "id": "97aee3c9",
   "metadata": {},
   "outputs": [],
   "source": []
  }
 ],
 "metadata": {
  "kernelspec": {
   "display_name": "Python 3 (ipykernel)",
   "language": "python",
   "name": "python3"
  },
  "language_info": {
   "codemirror_mode": {
    "name": "ipython",
    "version": 3
   },
   "file_extension": ".py",
   "mimetype": "text/x-python",
   "name": "python",
   "nbconvert_exporter": "python",
   "pygments_lexer": "ipython3",
   "version": "3.11.5"
  }
 },
 "nbformat": 4,
 "nbformat_minor": 5
}
