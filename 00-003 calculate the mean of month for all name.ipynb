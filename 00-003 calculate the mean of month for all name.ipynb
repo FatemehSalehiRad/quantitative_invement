{
 "cells": [
  {
   "cell_type": "code",
   "execution_count": 1,
   "id": "7a7dc024",
   "metadata": {},
   "outputs": [],
   "source": [
    "import numpy as np\n",
    "import pandas as pd\n",
    "import seaborn as sns"
   ]
  },
  {
   "cell_type": "code",
   "execution_count": 2,
   "id": "79166ac2",
   "metadata": {},
   "outputs": [],
   "source": [
    "names = pd.read_csv(\"./new data/name.csv\")[\"name\"]"
   ]
  },
  {
   "cell_type": "code",
   "execution_count": 3,
   "id": "d4c40901",
   "metadata": {},
   "outputs": [],
   "source": [
    "for name in names:\n",
    "    df = pd.read_csv(f\"./new data/output/{name}.csv\", usecols=[\"PDate\", \"ClosePrice\"])\n",
    "    df.sort_values(\"PDate\", inplace=True)\n",
    "    df.reset_index(drop=True, inplace=True)\n",
    "    df.set_index(\"PDate\", inplace=True)\n",
    "    df_in_percentage = df.pct_change()*100\n",
    "    df_in_percentage.reset_index(inplace=True)\n",
    "    df_in_percentage.drop(0, inplace=True)\n",
    "    df_in_percentage.reset_index(inplace=True, drop=True)\n",
    "    monthly_price_mean = pd.DataFrame(columns=[\"Year-Month\", \"Mean of Firm\"])\n",
    "    i = 0\n",
    "    pice_of_months = {}\n",
    "    for date in df_in_percentage[\"PDate\"]:\n",
    "        date = str(date)\n",
    "        if date[:6] in pice_of_months.keys():\n",
    "            pice_of_months[date[:6]].append(df_in_percentage.loc[i].ClosePrice)\n",
    "        else:\n",
    "            pice_of_months[date[:6]] = [df_in_percentage.loc[i].ClosePrice]\n",
    "        i +=1\n",
    "    i = 0\n",
    "    for key, value in pice_of_months.items():\n",
    "        seri = pd.Series(value)\n",
    "        monthly_price_mean.loc[i] = [key, seri.mean()]\n",
    "        i +=1\n",
    "    monthly_price_mean.to_csv(f\"./new data/output/processed/mean of month/mean_of_{name}.csv\")"
   ]
  },
  {
   "cell_type": "code",
   "execution_count": 5,
   "id": "09946cb5",
   "metadata": {},
   "outputs": [
    {
     "data": {
      "text/html": [
       "<div>\n",
       "<style scoped>\n",
       "    .dataframe tbody tr th:only-of-type {\n",
       "        vertical-align: middle;\n",
       "    }\n",
       "\n",
       "    .dataframe tbody tr th {\n",
       "        vertical-align: top;\n",
       "    }\n",
       "\n",
       "    .dataframe thead th {\n",
       "        text-align: right;\n",
       "    }\n",
       "</style>\n",
       "<table border=\"1\" class=\"dataframe\">\n",
       "  <thead>\n",
       "    <tr style=\"text-align: right;\">\n",
       "      <th></th>\n",
       "      <th>Year-Month</th>\n",
       "      <th>Mean of Firm</th>\n",
       "    </tr>\n",
       "  </thead>\n",
       "  <tbody>\n",
       "    <tr>\n",
       "      <th>0</th>\n",
       "      <td>138009</td>\n",
       "      <td>0.000000</td>\n",
       "    </tr>\n",
       "    <tr>\n",
       "      <th>1</th>\n",
       "      <td>138103</td>\n",
       "      <td>0.000000</td>\n",
       "    </tr>\n",
       "    <tr>\n",
       "      <th>2</th>\n",
       "      <td>138105</td>\n",
       "      <td>10.002362</td>\n",
       "    </tr>\n",
       "    <tr>\n",
       "      <th>3</th>\n",
       "      <td>138110</td>\n",
       "      <td>25.225416</td>\n",
       "    </tr>\n",
       "    <tr>\n",
       "      <th>4</th>\n",
       "      <td>138202</td>\n",
       "      <td>78.572433</td>\n",
       "    </tr>\n",
       "    <tr>\n",
       "      <th>...</th>\n",
       "      <td>...</td>\n",
       "      <td>...</td>\n",
       "    </tr>\n",
       "    <tr>\n",
       "      <th>95</th>\n",
       "      <td>139003</td>\n",
       "      <td>-0.436686</td>\n",
       "    </tr>\n",
       "    <tr>\n",
       "      <th>96</th>\n",
       "      <td>139004</td>\n",
       "      <td>0.050490</td>\n",
       "    </tr>\n",
       "    <tr>\n",
       "      <th>97</th>\n",
       "      <td>139005</td>\n",
       "      <td>0.443847</td>\n",
       "    </tr>\n",
       "    <tr>\n",
       "      <th>98</th>\n",
       "      <td>139006</td>\n",
       "      <td>0.548264</td>\n",
       "    </tr>\n",
       "    <tr>\n",
       "      <th>99</th>\n",
       "      <td>139007</td>\n",
       "      <td>-0.214099</td>\n",
       "    </tr>\n",
       "  </tbody>\n",
       "</table>\n",
       "<p>100 rows × 2 columns</p>\n",
       "</div>"
      ],
      "text/plain": [
       "   Year-Month  Mean of Firm\n",
       "0      138009      0.000000\n",
       "1      138103      0.000000\n",
       "2      138105     10.002362\n",
       "3      138110     25.225416\n",
       "4      138202     78.572433\n",
       "..        ...           ...\n",
       "95     139003     -0.436686\n",
       "96     139004      0.050490\n",
       "97     139005      0.443847\n",
       "98     139006      0.548264\n",
       "99     139007     -0.214099\n",
       "\n",
       "[100 rows x 2 columns]"
      ]
     },
     "execution_count": 5,
     "metadata": {},
     "output_type": "execute_result"
    }
   ],
   "source": [
    "monthly_price_mean.head(100)"
   ]
  },
  {
   "cell_type": "code",
   "execution_count": null,
   "id": "b0a5f48c",
   "metadata": {},
   "outputs": [],
   "source": []
  }
 ],
 "metadata": {
  "kernelspec": {
   "display_name": "Python 3 (ipykernel)",
   "language": "python",
   "name": "python3"
  },
  "language_info": {
   "codemirror_mode": {
    "name": "ipython",
    "version": 3
   },
   "file_extension": ".py",
   "mimetype": "text/x-python",
   "name": "python",
   "nbconvert_exporter": "python",
   "pygments_lexer": "ipython3",
   "version": "3.11.5"
  }
 },
 "nbformat": 4,
 "nbformat_minor": 5
}
