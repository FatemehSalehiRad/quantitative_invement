{
 "cells": [
  {
   "cell_type": "markdown",
   "id": "1b241bca",
   "metadata": {},
   "source": [
    "## Import packages"
   ]
  },
  {
   "cell_type": "code",
   "execution_count": 1,
   "id": "20439ab8",
   "metadata": {},
   "outputs": [],
   "source": [
    "import numpy as np\n",
    "import pandas as pd\n",
    "import matplotlib.pyplot as plt\n",
    "import seaborn as sns"
   ]
  },
  {
   "cell_type": "code",
   "execution_count": 2,
   "id": "8a55a3f5",
   "metadata": {},
   "outputs": [],
   "source": [
    "# Import necessary modules for model training and evaluation\n",
    "from sklearn.model_selection import train_test_split, GridSearchCV, cross_val_score\n",
    "# `train_test_split`: Splits arrays or matrices into random train and test subsets\n",
    "# `GridSearchCV`: Exhaustive search over specified parameter values for an estimator\n",
    "# `cross_val_score`: Evaluate a score by cross-validation\n",
    "\n",
    "from sklearn.impute import SimpleImputer\n",
    "# `SimpleImputer`: Imputation of missing values using a specified strategy (mean, median, etc.)\n",
    "\n",
    "from sklearn.preprocessing import (OrdinalEncoder,\n",
    "                                   OneHotEncoder,\n",
    "                                   StandardScaler,\n",
    "                                   PowerTransformer,\n",
    "                                   MinMaxScaler,\n",
    "                                  RobustScaler)\n",
    "# `OrdinalEncoder`: Encode categorical features as ordinal integers\n",
    "# `OneHotEncoder`: Encode categorical features as a one-hot numeric array\n",
    "# `StandardScaler`: Standardize features by removing the mean and scaling to unit variance\n",
    "# `PowerTransformer`: Apply a power transformation to make data more Gaussian-like\n",
    "\n",
    "from sklearn.pipeline import Pipeline\n",
    "# `Pipeline`: Construct a pipeline of multiple steps, where each step is a tuple of a name and a transformer/estimator\n",
    "\n",
    "from sklearn.compose import ColumnTransformer\n",
    "# `ColumnTransformer`: Apply transformers to columns of an array or pandas DataFrame\n",
    "\n",
    "from sklearn.base import BaseEstimator, TransformerMixin\n",
    "# `BaseEstimator`: Base class for all estimators\n",
    "# `TransformerMixin`: Mix-in class for all transformers\n",
    "\n",
    "from sklearn.metrics import mean_squared_error, r2_score, mean_absolute_error\n",
    "# `mean_squared_error`: Compute the mean squared error (MSE) regression loss\n",
    "# `r2_score`: Compute the coefficient of determination (R² score)\n",
    "# `mean_absolute_error`: Compute the mean absolute error (MAE) regression loss\n",
    "\n",
    "from sklearn.inspection import partial_dependence\n",
    "# `partial_dependence`: Compute partial dependence plots of the features\n",
    "\n",
    "from sklearn.feature_selection import RFE,SelectFromModel\n",
    "\n",
    "from sklearn.ensemble import RandomForestRegressor\n",
    "\n",
    "from sklearn.metrics import make_scorer, r2_score\n"
   ]
  },
  {
   "cell_type": "code",
   "execution_count": 3,
   "id": "d193d3cb",
   "metadata": {},
   "outputs": [],
   "source": [
    "from skopt import gp_minimize\n",
    "# `gp_minimize`: Function for performing Bayesian optimization using Gaussian Processes\n",
    "\n",
    "from skopt.plots import plot_convergence, plot_evaluations, plot_objective\n",
    "# `plot_convergence`: Plot showing how the best score improves over iterations\n",
    "# `plot_evaluations`: Plot showing the distribution of evaluations across the search space\n",
    "# `plot_objective`: Plot showing the objective function values across the search space\n",
    "\n",
    "from skopt.space import Real, Integer, Categorical\n",
    "# `Real`: Define a continuous real-valued parameter in the search space\n",
    "# `Integer`: Define an integer-valued parameter in the search space\n",
    "# `Categorical`: Define a categorical parameter in the search space\n",
    "\n",
    "from skopt.utils import use_named_args\n",
    "# `use_named_args`: A decorator to convert hyperparameter optimization results into function arguments\n"
   ]
  },
  {
   "cell_type": "code",
   "execution_count": 4,
   "id": "0137eb58",
   "metadata": {},
   "outputs": [],
   "source": [
    "from feature_engine.outliers import Winsorizer\n",
    "# `Winsorizer`: A transformer for capping outliers by replacing extreme values with specified percentiles\n",
    "# It helps in handling outliers by setting them to the specified quantile values"
   ]
  },
  {
   "cell_type": "code",
   "execution_count": 5,
   "id": "51b6d5dc",
   "metadata": {},
   "outputs": [],
   "source": [
    "import shap\n",
    "# `shap`: A library for SHapley Additive exPlanations, which provides tools for model interpretability\n",
    "# It helps in understanding the contribution of each feature to the model's predictions through visualizations like summary plots, dependence plots, and force plots"
   ]
  },
  {
   "cell_type": "code",
   "execution_count": 6,
   "id": "9c917207",
   "metadata": {},
   "outputs": [],
   "source": [
    "import joblib\n",
    "# `joblib`: A library for saving and loading Python objects, especially useful for saving trained machine learning models and large arrays efficiently\n",
    "# It supports serialization of Python objects to disk, which is useful for persisting model state between sessions"
   ]
  },
  {
   "cell_type": "markdown",
   "id": "d8a883b4",
   "metadata": {},
   "source": [
    "## read dataset and preparing data"
   ]
  },
  {
   "cell_type": "code",
   "execution_count": 7,
   "id": "d0bb2621",
   "metadata": {},
   "outputs": [
    {
     "data": {
      "text/html": [
       "<div>\n",
       "<style scoped>\n",
       "    .dataframe tbody tr th:only-of-type {\n",
       "        vertical-align: middle;\n",
       "    }\n",
       "\n",
       "    .dataframe tbody tr th {\n",
       "        vertical-align: top;\n",
       "    }\n",
       "\n",
       "    .dataframe thead th {\n",
       "        text-align: right;\n",
       "    }\n",
       "</style>\n",
       "<table border=\"1\" class=\"dataframe\">\n",
       "  <thead>\n",
       "    <tr style=\"text-align: right;\">\n",
       "      <th></th>\n",
       "      <th>F1</th>\n",
       "      <th>F3</th>\n",
       "      <th>F5</th>\n",
       "      <th>F6</th>\n",
       "      <th>F8</th>\n",
       "      <th>F9</th>\n",
       "      <th>F11</th>\n",
       "      <th>F13</th>\n",
       "      <th>F15</th>\n",
       "      <th>F17</th>\n",
       "      <th>F19</th>\n",
       "      <th>F23</th>\n",
       "      <th>F24</th>\n",
       "      <th>F25</th>\n",
       "      <th>F26</th>\n",
       "      <th>F36</th>\n",
       "    </tr>\n",
       "  </thead>\n",
       "  <tbody>\n",
       "    <tr>\n",
       "      <th>0</th>\n",
       "      <td>0.306471</td>\n",
       "      <td>0.241413</td>\n",
       "      <td>0.214418</td>\n",
       "      <td>0.191128</td>\n",
       "      <td>0.295488</td>\n",
       "      <td>0.701202</td>\n",
       "      <td>1.546019</td>\n",
       "      <td>3.772608</td>\n",
       "      <td>3.453947</td>\n",
       "      <td>0.480146</td>\n",
       "      <td>0.148510</td>\n",
       "      <td>7.741639</td>\n",
       "      <td>1.215003</td>\n",
       "      <td>0.487587</td>\n",
       "      <td>0.193592</td>\n",
       "      <td>0.800855</td>\n",
       "    </tr>\n",
       "    <tr>\n",
       "      <th>1</th>\n",
       "      <td>0.267762</td>\n",
       "      <td>0.240176</td>\n",
       "      <td>0.223380</td>\n",
       "      <td>0.197235</td>\n",
       "      <td>0.350100</td>\n",
       "      <td>0.769845</td>\n",
       "      <td>1.775037</td>\n",
       "      <td>3.999900</td>\n",
       "      <td>4.594070</td>\n",
       "      <td>0.506838</td>\n",
       "      <td>0.230527</td>\n",
       "      <td>8.320908</td>\n",
       "      <td>0.618932</td>\n",
       "      <td>0.270899</td>\n",
       "      <td>0.038072</td>\n",
       "      <td>0.328286</td>\n",
       "    </tr>\n",
       "    <tr>\n",
       "      <th>2</th>\n",
       "      <td>0.254699</td>\n",
       "      <td>0.245160</td>\n",
       "      <td>0.214582</td>\n",
       "      <td>0.185236</td>\n",
       "      <td>0.292934</td>\n",
       "      <td>0.695408</td>\n",
       "      <td>1.581410</td>\n",
       "      <td>3.996229</td>\n",
       "      <td>3.976882</td>\n",
       "      <td>0.580367</td>\n",
       "      <td>0.347703</td>\n",
       "      <td>7.570802</td>\n",
       "      <td>0.980762</td>\n",
       "      <td>0.416822</td>\n",
       "      <td>0.089281</td>\n",
       "      <td>0.046231</td>\n",
       "    </tr>\n",
       "    <tr>\n",
       "      <th>3</th>\n",
       "      <td>0.126061</td>\n",
       "      <td>0.090039</td>\n",
       "      <td>0.049724</td>\n",
       "      <td>0.047979</td>\n",
       "      <td>0.075311</td>\n",
       "      <td>0.192731</td>\n",
       "      <td>1.569660</td>\n",
       "      <td>4.698025</td>\n",
       "      <td>4.985870</td>\n",
       "      <td>0.462886</td>\n",
       "      <td>0.275856</td>\n",
       "      <td>2.115075</td>\n",
       "      <td>1.443694</td>\n",
       "      <td>0.486900</td>\n",
       "      <td>0.137990</td>\n",
       "      <td>-0.240473</td>\n",
       "    </tr>\n",
       "    <tr>\n",
       "      <th>4</th>\n",
       "      <td>0.046033</td>\n",
       "      <td>-0.032316</td>\n",
       "      <td>-0.093502</td>\n",
       "      <td>-0.097348</td>\n",
       "      <td>-0.090681</td>\n",
       "      <td>-0.184116</td>\n",
       "      <td>0.931511</td>\n",
       "      <td>3.551270</td>\n",
       "      <td>3.462843</td>\n",
       "      <td>0.539266</td>\n",
       "      <td>0.282761</td>\n",
       "      <td>NaN</td>\n",
       "      <td>1.816625</td>\n",
       "      <td>0.775727</td>\n",
       "      <td>0.509025</td>\n",
       "      <td>-0.160583</td>\n",
       "    </tr>\n",
       "  </tbody>\n",
       "</table>\n",
       "</div>"
      ],
      "text/plain": [
       "         F1        F3        F5        F6        F8        F9       F11  \\\n",
       "0  0.306471  0.241413  0.214418  0.191128  0.295488  0.701202  1.546019   \n",
       "1  0.267762  0.240176  0.223380  0.197235  0.350100  0.769845  1.775037   \n",
       "2  0.254699  0.245160  0.214582  0.185236  0.292934  0.695408  1.581410   \n",
       "3  0.126061  0.090039  0.049724  0.047979  0.075311  0.192731  1.569660   \n",
       "4  0.046033 -0.032316 -0.093502 -0.097348 -0.090681 -0.184116  0.931511   \n",
       "\n",
       "        F13       F15       F17       F19       F23       F24       F25  \\\n",
       "0  3.772608  3.453947  0.480146  0.148510  7.741639  1.215003  0.487587   \n",
       "1  3.999900  4.594070  0.506838  0.230527  8.320908  0.618932  0.270899   \n",
       "2  3.996229  3.976882  0.580367  0.347703  7.570802  0.980762  0.416822   \n",
       "3  4.698025  4.985870  0.462886  0.275856  2.115075  1.443694  0.486900   \n",
       "4  3.551270  3.462843  0.539266  0.282761       NaN  1.816625  0.775727   \n",
       "\n",
       "        F26       F36  \n",
       "0  0.193592  0.800855  \n",
       "1  0.038072  0.328286  \n",
       "2  0.089281  0.046231  \n",
       "3  0.137990 -0.240473  \n",
       "4  0.509025 -0.160583  "
      ]
     },
     "execution_count": 7,
     "metadata": {},
     "output_type": "execute_result"
    }
   ],
   "source": [
    "# Create column names from \"F1\" to \"F36\" using a list comprehension\n",
    "columns = [\"F1\", \"F3\", \"F5\", \"F6\", \"F8\", \"F9\",\n",
    "          \"F11\", \"F13\", \"F15\", \"F17\", \"F19\",\n",
    "           \"F23\", \"F24\", \"F25\", \"F26\", \"F36\"]\n",
    "\n",
    "# Read the CSV file and select only the specified columns\n",
    "df = pd.read_csv(\"./new data/output/processed/FINAL-DATA.csv\", usecols=columns)\n",
    "\n",
    "# Display the first few rows of the dataframe to check the loaded data\n",
    "df.head()\n"
   ]
  },
  {
   "cell_type": "code",
   "execution_count": 8,
   "id": "652c8989",
   "metadata": {},
   "outputs": [
    {
     "data": {
      "text/html": [
       "<div>\n",
       "<style scoped>\n",
       "    .dataframe tbody tr th:only-of-type {\n",
       "        vertical-align: middle;\n",
       "    }\n",
       "\n",
       "    .dataframe tbody tr th {\n",
       "        vertical-align: top;\n",
       "    }\n",
       "\n",
       "    .dataframe thead th {\n",
       "        text-align: right;\n",
       "    }\n",
       "</style>\n",
       "<table border=\"1\" class=\"dataframe\">\n",
       "  <thead>\n",
       "    <tr style=\"text-align: right;\">\n",
       "      <th></th>\n",
       "      <th>F1</th>\n",
       "      <th>F3</th>\n",
       "      <th>F5</th>\n",
       "      <th>F6</th>\n",
       "      <th>F8</th>\n",
       "      <th>F9</th>\n",
       "      <th>F11</th>\n",
       "      <th>F13</th>\n",
       "      <th>F15</th>\n",
       "      <th>F17</th>\n",
       "      <th>F19</th>\n",
       "      <th>F23</th>\n",
       "      <th>F24</th>\n",
       "      <th>F25</th>\n",
       "      <th>F26</th>\n",
       "      <th>F36</th>\n",
       "    </tr>\n",
       "  </thead>\n",
       "  <tbody>\n",
       "    <tr>\n",
       "      <th>count</th>\n",
       "      <td>418.000000</td>\n",
       "      <td>418.000000</td>\n",
       "      <td>418.000000</td>\n",
       "      <td>418.000000</td>\n",
       "      <td>418.000000</td>\n",
       "      <td>418.000000</td>\n",
       "      <td>418.000000</td>\n",
       "      <td>418.000000</td>\n",
       "      <td>418.000000</td>\n",
       "      <td>418.000000</td>\n",
       "      <td>418.000000</td>\n",
       "      <td>346.000000</td>\n",
       "      <td>418.000000</td>\n",
       "      <td>418.000000</td>\n",
       "      <td>418.000000</td>\n",
       "      <td>418.000000</td>\n",
       "    </tr>\n",
       "    <tr>\n",
       "      <th>mean</th>\n",
       "      <td>0.290131</td>\n",
       "      <td>0.239426</td>\n",
       "      <td>0.265368</td>\n",
       "      <td>0.240733</td>\n",
       "      <td>0.284587</td>\n",
       "      <td>0.525539</td>\n",
       "      <td>1.508325</td>\n",
       "      <td>5.080289</td>\n",
       "      <td>12.255097</td>\n",
       "      <td>0.489760</td>\n",
       "      <td>0.128187</td>\n",
       "      <td>268.457653</td>\n",
       "      <td>1.980440</td>\n",
       "      <td>1.259381</td>\n",
       "      <td>0.403779</td>\n",
       "      <td>0.302699</td>\n",
       "    </tr>\n",
       "    <tr>\n",
       "      <th>std</th>\n",
       "      <td>0.193531</td>\n",
       "      <td>0.202874</td>\n",
       "      <td>0.285274</td>\n",
       "      <td>0.275481</td>\n",
       "      <td>0.248267</td>\n",
       "      <td>0.842710</td>\n",
       "      <td>1.147969</td>\n",
       "      <td>4.112424</td>\n",
       "      <td>26.483048</td>\n",
       "      <td>0.229126</td>\n",
       "      <td>0.135365</td>\n",
       "      <td>2312.067363</td>\n",
       "      <td>1.440295</td>\n",
       "      <td>1.233205</td>\n",
       "      <td>0.801422</td>\n",
       "      <td>1.632261</td>\n",
       "    </tr>\n",
       "    <tr>\n",
       "      <th>min</th>\n",
       "      <td>-0.584242</td>\n",
       "      <td>-0.454052</td>\n",
       "      <td>-0.652406</td>\n",
       "      <td>-0.658797</td>\n",
       "      <td>-0.400242</td>\n",
       "      <td>-10.076653</td>\n",
       "      <td>0.040988</td>\n",
       "      <td>0.015250</td>\n",
       "      <td>0.153217</td>\n",
       "      <td>0.066015</td>\n",
       "      <td>0.000000</td>\n",
       "      <td>0.084158</td>\n",
       "      <td>0.205195</td>\n",
       "      <td>0.113388</td>\n",
       "      <td>0.001255</td>\n",
       "      <td>-0.546729</td>\n",
       "    </tr>\n",
       "    <tr>\n",
       "      <th>25%</th>\n",
       "      <td>0.152945</td>\n",
       "      <td>0.094831</td>\n",
       "      <td>0.098019</td>\n",
       "      <td>0.078651</td>\n",
       "      <td>0.096007</td>\n",
       "      <td>0.250761</td>\n",
       "      <td>0.788786</td>\n",
       "      <td>2.269776</td>\n",
       "      <td>3.232689</td>\n",
       "      <td>0.327832</td>\n",
       "      <td>0.016798</td>\n",
       "      <td>4.217867</td>\n",
       "      <td>1.251544</td>\n",
       "      <td>0.669877</td>\n",
       "      <td>0.058214</td>\n",
       "      <td>-0.182886</td>\n",
       "    </tr>\n",
       "    <tr>\n",
       "      <th>50%</th>\n",
       "      <td>0.263790</td>\n",
       "      <td>0.204569</td>\n",
       "      <td>0.223639</td>\n",
       "      <td>0.195211</td>\n",
       "      <td>0.260381</td>\n",
       "      <td>0.546767</td>\n",
       "      <td>1.193650</td>\n",
       "      <td>3.884375</td>\n",
       "      <td>5.607171</td>\n",
       "      <td>0.456039</td>\n",
       "      <td>0.084659</td>\n",
       "      <td>13.093505</td>\n",
       "      <td>1.583106</td>\n",
       "      <td>0.959643</td>\n",
       "      <td>0.142563</td>\n",
       "      <td>-0.065770</td>\n",
       "    </tr>\n",
       "    <tr>\n",
       "      <th>75%</th>\n",
       "      <td>0.414855</td>\n",
       "      <td>0.378688</td>\n",
       "      <td>0.407414</td>\n",
       "      <td>0.363778</td>\n",
       "      <td>0.435096</td>\n",
       "      <td>0.884044</td>\n",
       "      <td>1.807746</td>\n",
       "      <td>6.263765</td>\n",
       "      <td>11.175275</td>\n",
       "      <td>0.625185</td>\n",
       "      <td>0.203113</td>\n",
       "      <td>41.747101</td>\n",
       "      <td>2.298708</td>\n",
       "      <td>1.381003</td>\n",
       "      <td>0.392960</td>\n",
       "      <td>0.215092</td>\n",
       "    </tr>\n",
       "    <tr>\n",
       "      <th>max</th>\n",
       "      <td>0.917693</td>\n",
       "      <td>0.862629</td>\n",
       "      <td>2.949693</td>\n",
       "      <td>2.944823</td>\n",
       "      <td>1.238016</td>\n",
       "      <td>3.615849</td>\n",
       "      <td>9.268860</td>\n",
       "      <td>27.512415</td>\n",
       "      <td>406.181505</td>\n",
       "      <td>1.505271</td>\n",
       "      <td>0.748387</td>\n",
       "      <td>40182.590080</td>\n",
       "      <td>13.455077</td>\n",
       "      <td>11.382865</td>\n",
       "      <td>7.441243</td>\n",
       "      <td>24.431337</td>\n",
       "    </tr>\n",
       "  </tbody>\n",
       "</table>\n",
       "</div>"
      ],
      "text/plain": [
       "               F1          F3          F5          F6          F8          F9  \\\n",
       "count  418.000000  418.000000  418.000000  418.000000  418.000000  418.000000   \n",
       "mean     0.290131    0.239426    0.265368    0.240733    0.284587    0.525539   \n",
       "std      0.193531    0.202874    0.285274    0.275481    0.248267    0.842710   \n",
       "min     -0.584242   -0.454052   -0.652406   -0.658797   -0.400242  -10.076653   \n",
       "25%      0.152945    0.094831    0.098019    0.078651    0.096007    0.250761   \n",
       "50%      0.263790    0.204569    0.223639    0.195211    0.260381    0.546767   \n",
       "75%      0.414855    0.378688    0.407414    0.363778    0.435096    0.884044   \n",
       "max      0.917693    0.862629    2.949693    2.944823    1.238016    3.615849   \n",
       "\n",
       "              F11         F13         F15         F17         F19  \\\n",
       "count  418.000000  418.000000  418.000000  418.000000  418.000000   \n",
       "mean     1.508325    5.080289   12.255097    0.489760    0.128187   \n",
       "std      1.147969    4.112424   26.483048    0.229126    0.135365   \n",
       "min      0.040988    0.015250    0.153217    0.066015    0.000000   \n",
       "25%      0.788786    2.269776    3.232689    0.327832    0.016798   \n",
       "50%      1.193650    3.884375    5.607171    0.456039    0.084659   \n",
       "75%      1.807746    6.263765   11.175275    0.625185    0.203113   \n",
       "max      9.268860   27.512415  406.181505    1.505271    0.748387   \n",
       "\n",
       "                F23         F24         F25         F26         F36  \n",
       "count    346.000000  418.000000  418.000000  418.000000  418.000000  \n",
       "mean     268.457653    1.980440    1.259381    0.403779    0.302699  \n",
       "std     2312.067363    1.440295    1.233205    0.801422    1.632261  \n",
       "min        0.084158    0.205195    0.113388    0.001255   -0.546729  \n",
       "25%        4.217867    1.251544    0.669877    0.058214   -0.182886  \n",
       "50%       13.093505    1.583106    0.959643    0.142563   -0.065770  \n",
       "75%       41.747101    2.298708    1.381003    0.392960    0.215092  \n",
       "max    40182.590080   13.455077   11.382865    7.441243   24.431337  "
      ]
     },
     "execution_count": 8,
     "metadata": {},
     "output_type": "execute_result"
    }
   ],
   "source": [
    "# Display statistical summary of the DataFrame\n",
    "df.describe()"
   ]
  },
  {
   "cell_type": "code",
   "execution_count": 9,
   "id": "f4e02e83",
   "metadata": {},
   "outputs": [],
   "source": [
    "# Drop the target column \"F36\" from the DataFrame to create the feature set X\n",
    "X = df.drop(\"F36\", axis=1)\n",
    "\n",
    "# Extract the target column \"F36\" from the DataFrame and assign it to y\n",
    "y = df[\"F36\"]\n",
    "\n",
    "# Split the data into training and test sets\n",
    "# - X_train: Features for training\n",
    "# - X_test: Features for testing\n",
    "# - y_train: Target for training\n",
    "# - y_test: Target for testing\n",
    "# - test_size=0.3 specifies that 30% of the data will be used for testing, and 70% for training\n",
    "# - random_state=42 ensures the split is reproducible\n",
    "X_train, X_test, y_train, y_test = train_test_split(X, y, test_size=0.3, random_state=42)"
   ]
  },
  {
   "cell_type": "markdown",
   "id": "c2d9e1ed",
   "metadata": {},
   "source": [
    "## modeling and training"
   ]
  },
  {
   "cell_type": "code",
   "execution_count": 10,
   "id": "b517c5c6",
   "metadata": {},
   "outputs": [],
   "source": [
    "# Define the updated CustomMaxImputer\n",
    "class CustomMaxImputer(BaseEstimator, TransformerMixin):\n",
    "    \"\"\"\n",
    "    A custom imputer that replaces NaNs with 3 times the max of each column.\n",
    "    \"\"\"\n",
    "    def fit(self, X, y=None):\n",
    "        # Compute 3 times the max of each column\n",
    "        self.fill_values_ = 3 * X.max(axis=0)\n",
    "        return self\n",
    "    \n",
    "    def transform(self, X):\n",
    "        # Replace NaNs with the precomputed 3 * max values\n",
    "        return X.fillna(self.fill_values_)\n",
    "    \n",
    "    def get_params(self, deep=True):\n",
    "        # Return an empty dictionary because there are no hyperparameters to tune in this transformer\n",
    "        return {}\n",
    "    \n",
    "    def set_params(self, **params):\n",
    "        # This method is needed to comply with scikit-learn's interface\n",
    "        return self\n",
    "\n",
    "\n",
    "# Instantiate the custom imputer\n",
    "custom_max_imputer = CustomMaxImputer()"
   ]
  },
  {
   "cell_type": "code",
   "execution_count": 11,
   "id": "0cb437e9",
   "metadata": {},
   "outputs": [],
   "source": [
    "# General numerical imputer (for other numerical columns)\n",
    "general_imputer = SimpleImputer(strategy='mean')  #'median'"
   ]
  },
  {
   "cell_type": "code",
   "execution_count": 12,
   "id": "f3508a98",
   "metadata": {},
   "outputs": [],
   "source": [
    "robust_scaler = RobustScaler()"
   ]
  },
  {
   "cell_type": "code",
   "execution_count": 13,
   "id": "6278f83c",
   "metadata": {},
   "outputs": [],
   "source": [
    "# Define a PowerTransformer for skewed data\n",
    "skewed_transformer = PowerTransformer(method='yeo-johnson')"
   ]
  },
  {
   "cell_type": "code",
   "execution_count": 14,
   "id": "505fea03",
   "metadata": {},
   "outputs": [],
   "source": [
    "# Define a Winsorizer for handling outliers in feature columns\n",
    "feature_winsorizer = Winsorizer(\n",
    "    capping_method='iqr',  # Use interquartile range for capping\n",
    "    tail='both',           # Cap both tails (lower and upper)\n",
    "    fold=1.5,              # Cap values beyond 1.5 times the IQR\n",
    "#     variables=['F1', 'F2', 'F3']  # List your features with outliers here\n",
    ")"
   ]
  },
  {
   "cell_type": "code",
   "execution_count": 15,
   "id": "0b7229b2",
   "metadata": {},
   "outputs": [],
   "source": [
    "# Initialize a StandardScaler instance\n",
    "# StandardScaler standardizes features by removing the mean and scaling to unit variance\n",
    "std_scaler = StandardScaler()"
   ]
  },
  {
   "cell_type": "code",
   "execution_count": 16,
   "id": "32bb36c7",
   "metadata": {},
   "outputs": [
    {
     "name": "stdout",
     "output_type": "stream",
     "text": [
      "1\n"
     ]
    }
   ],
   "source": [
    "numerical_features1 = X_train.select_dtypes(include=['int64', 'float64']).columns.tolist()\n",
    "numerical_features2 = X_train.columns.tolist()\n",
    "\n",
    "if numerical_features1 == numerical_features2:\n",
    "    print(1)"
   ]
  },
  {
   "cell_type": "code",
   "execution_count": 17,
   "id": "9dc808db",
   "metadata": {},
   "outputs": [],
   "source": [
    "# Columns with missing values due to division by zero\n",
    "features_to_custom_max_imputer = [\"F23\"]\n",
    "\n",
    "# General numerical columns excluding the specific ones\n",
    "numerical_features = X_train.columns.tolist()\n",
    "numerical_features_general = [col for col in numerical_features if col not in features_to_custom_max_imputer]"
   ]
  },
  {
   "cell_type": "code",
   "execution_count": 18,
   "id": "1c33cf4f",
   "metadata": {},
   "outputs": [],
   "source": [
    "# Define the preprocessing steps using ColumnTransformer\n",
    "imputer = ColumnTransformer(\n",
    "    transformers=[\n",
    "        ('custom_imputer', custom_max_imputer, features_to_custom_max_imputer),  # Apply CustomMaxImputer to specific columns\n",
    "        ('general_imputer', general_imputer, numerical_features_general),  # Apply SimpleImputer to other numerical columns\n",
    "    ],\n",
    "    remainder='passthrough'  # Keep all other columns as is\n",
    ")"
   ]
  },
  {
   "cell_type": "code",
   "execution_count": 19,
   "id": "7991f05a",
   "metadata": {},
   "outputs": [],
   "source": [
    "preprocessor = Pipeline(steps=[\n",
    "    ('imputer', imputer),                           # Step 1: Apply imputer to all features\n",
    "    ('robust_scaler', robust_scaler),\n",
    "    ('winsorizer', feature_winsorizer),            # Step 2: Apply Winsorizer to all features\n",
    "    ('skewed', skewed_transformer),                # Step 3: Apply PowerTransformer to correct skewness\n",
    "    ('scaler', std_scaler)                         # Step 3: Standard scaling\n",
    "])   \n",
    "    "
   ]
  },
  {
   "cell_type": "code",
   "execution_count": 20,
   "id": "3f880669",
   "metadata": {},
   "outputs": [],
   "source": [
    "# Define the RandomForestRegressor model\n",
    "regressor = RandomForestRegressor(random_state=42)"
   ]
  },
  {
   "cell_type": "code",
   "execution_count": 21,
   "id": "e610affd",
   "metadata": {},
   "outputs": [],
   "source": [
    "# Use SelectFromModel for feature selection based on coefficients of Linear Regression\n",
    "# feature_selection = SelectFromModel(estimator=regressor, threshold=\"mean\")\n"
   ]
  },
  {
   "cell_type": "code",
   "execution_count": 22,
   "id": "b1f9ef87",
   "metadata": {},
   "outputs": [],
   "source": [
    "# Initialize RobustScaler for scaling\n",
    "target_scaler = RobustScaler()\n",
    "\n",
    "# Apply RobustScaler to y_train\n",
    "y_train_robust_scaled = target_scaler.fit_transform(y_train.to_frame()).ravel()\n",
    "\n",
    "# Initialize Yeo-Johnson for the target (handles both positive and negative values)\n",
    "yeo_transformer = PowerTransformer(method='yeo-johnson')\n",
    "\n",
    "# Apply Yeo-Johnson transformation to the scaled target\n",
    "y_train_scaled = yeo_transformer.fit_transform(y_train_robust_scaled.reshape(-1, 1)).ravel()"
   ]
  },
  {
   "cell_type": "code",
   "execution_count": 23,
   "id": "c8f6f69e",
   "metadata": {},
   "outputs": [
    {
     "name": "stdout",
     "output_type": "stream",
     "text": [
      "Minimum value of y_train_scaled: -3.2278481820139198\n",
      "Maximum value of y_train_scaled: 2.7583754351153416\n",
      "Approximate theoretical minimum of scaled data: -0.557470236725\n",
      "Approximate theoretical maximum of scaled data: 0.557470236725\n"
     ]
    }
   ],
   "source": [
    "# Calculate median and IQR used for scaling\n",
    "median = target_scaler.center_[0]\n",
    "iqr = target_scaler.scale_[0] * 1.349  # Note: RobustScaler uses 'scale' instead of direct IQR\n",
    "\n",
    "# Print statistics of scaled data\n",
    "print(\"Minimum value of y_train_scaled:\", np.min(y_train_scaled))\n",
    "print(\"Maximum value of y_train_scaled:\", np.max(y_train_scaled))\n",
    "\n",
    "# Approximate theoretical range\n",
    "print(\"Approximate theoretical minimum of scaled data:\", -iqr)\n",
    "print(\"Approximate theoretical maximum of scaled data:\", iqr)"
   ]
  },
  {
   "cell_type": "code",
   "execution_count": 29,
   "id": "c5aca486",
   "metadata": {},
   "outputs": [
    {
     "data": {
      "image/png": "[encoded data removed]",
      "text/plain": [
       "<Figure size 1200x600 with 2 Axes>"
      ]
     },
     "metadata": {},
     "output_type": "display_data"
    },
    {
     "name": "stdout",
     "output_type": "stream",
     "text": [
      "Statistics of y_train_transformed:\n",
      "Min: -1.1735091039070396\n",
      "Max: 39.11949506714537\n",
      "Median: 0.0\n",
      "IQR: 1.0\n",
      "Statistics of y_train_scaled:\n",
      "Min: -3.2278481820139198\n",
      "Max: 2.7583754351153416\n",
      "Median: -0.0803375115523195\n"
     ]
    }
   ],
   "source": [
    "# Plot distribution of transformed target variable\n",
    "plt.figure(figsize=(12, 6))\n",
    "\n",
    "plt.subplot(1, 2, 1)\n",
    "sns.histplot(y_train_robust_scaled, bins=50, kde=True)\n",
    "plt.title('Distribution of Yeo-Johnson Transformed Target')\n",
    "\n",
    "plt.subplot(1, 2, 2)\n",
    "sns.histplot(y_train_scaled, bins=50, kde=True)\n",
    "plt.title('Distribution of Scaled Target')\n",
    "\n",
    "plt.tight_layout()\n",
    "plt.show()\n",
    "\n",
    "# Display basic statistics\n",
    "print(\"Statistics of y_train_transformed:\")\n",
    "print(\"Min:\", np.min(y_train_robust_scaled))\n",
    "print(\"Max:\", np.max(y_train_robust_scaled))\n",
    "print(\"Median:\", np.median(y_train_robust_scaled))\n",
    "print(\"IQR:\", np.percentile(y_train_robust_scaled, 75) - np.percentile(y_train_robust_scaled, 25))\n",
    "\n",
    "print(\"Statistics of y_train_scaled:\")\n",
    "print(\"Min:\", np.min(y_train_scaled))\n",
    "print(\"Max:\", np.max(y_train_scaled))\n",
    "print(\"Median:\", np.median(y_train_scaled))\n"
   ]
  },
  {
   "cell_type": "code",
   "execution_count": 30,
   "id": "b84d479d",
   "metadata": {},
   "outputs": [
    {
     "name": "stdout",
     "output_type": "stream",
     "text": [
      "Minimum value of y_train_scaled: -3.2278481820139198\n",
      "Maximum value of y_train_scaled: 2.7583754351153416\n"
     ]
    }
   ],
   "source": [
    "# Print the minimum and maximum values of y_train_scaled\n",
    "print(\"Minimum value of y_train_scaled:\", y_train_scaled.min())\n",
    "print(\"Maximum value of y_train_scaled:\", y_train_scaled.max())"
   ]
  },
  {
   "cell_type": "code",
   "execution_count": 31,
   "id": "9442eb88",
   "metadata": {},
   "outputs": [],
   "source": [
    "# Create a pipeline with preprocessing, feature selection, and regression\n",
    "model = Pipeline(steps=[\n",
    "    (\"preprocessor\", preprocessor),  # Step 1: Apply preprocessing steps\n",
    "    (\"regressor\", regressor)  # Step 3: Fit the LinearRegression model\n",
    "])"
   ]
  },
  {
   "cell_type": "markdown",
   "id": "32422d77",
   "metadata": {},
   "source": [
    "### hyper parameter optimization"
   ]
  },
  {
   "cell_type": "code",
   "execution_count": 32,
   "id": "4134fc76",
   "metadata": {},
   "outputs": [],
   "source": [
    "# Define the updated search space including preprocessing steps\n",
    "search_space = [\n",
    "    Integer(100, 5000, name='regressor__n_estimators'),         # Number of trees in the forest\n",
    "    Integer(5, 100, name='regressor__max_depth'),               # Maximum depth of the tree\n",
    "    Integer(2, 10, name='regressor__min_samples_split'),       # Minimum number of samples required to split a node (updated)\n",
    "    Integer(1, 10, name='regressor__min_samples_leaf'),        # Minimum number of samples required to be at a leaf node\n",
    "    Real(0.1, 1.0, name='regressor__max_features'),            # Maximum number of features to consider at each split\n",
    "    Categorical([True, False], name='regressor__bootstrap'),   # Use bootstrap samples\n",
    "\n",
    "    # Preprocessor Hyperparameters\n",
    "    Real(0.01, 1.0, name='preprocessor__winsorizer__fold'),        # Fold parameter for Winsorizer\n",
    "    Categorical(['iqr', 'gaussian'], name='preprocessor__winsorizer__capping_method'),  # Capping method for Winsorizer\n",
    "    Categorical(['both', 'left', 'right'], name='preprocessor__winsorizer__tail'),       # Tail for Winsorizer\n",
    "\n",
    "    Categorical([True, False], name='preprocessor__scaler__with_mean'),   # With mean parameter for StandardScaler\n",
    "    Categorical([True, False], name='preprocessor__scaler__with_std')    # With standard deviation parameter for StandardScaler\n",
    "]"
   ]
  },
  {
   "cell_type": "code",
   "execution_count": 33,
   "id": "6bb0b891",
   "metadata": {},
   "outputs": [],
   "source": [
    "# Define the objective function for Bayesian optimization using gp_minimize\n",
    "@use_named_args(search_space)\n",
    "def objective(**params):\n",
    "    # Update the pipeline parameters with the current set of hyperparameters\n",
    "    model.set_params(**params)\n",
    "    \n",
    "    # Define the RMSE scoring function (neg_mean_squared_error for RMSE)\n",
    "    rmse_scorer = make_scorer(mean_squared_error, squared=False)\n",
    "    \n",
    "    # Perform cross-validation to evaluate the model's performance with the given hyperparameters\n",
    "    score = cross_val_score(\n",
    "        model,                           # The pipeline object to evaluate\n",
    "        X_train,                         # Training features\n",
    "        y_train_scaled,                  # Training target variable (Yeo-Johnson transformed and scaled)\n",
    "        cv=5,                            # Number of cross-validation folds\n",
    "        scoring=rmse_scorer              # Metric to use for evaluation (RMSE)\n",
    "    )\n",
    "    \n",
    "    # Return the mean score (gp_minimize minimizes the objective function, no need to negate for RMSE)\n",
    "    return np.mean(score)  # We minimize RMSE, so return mean RMSE"
   ]
  },
  {
   "cell_type": "code",
   "execution_count": 34,
   "id": "c6525d9d",
   "metadata": {},
   "outputs": [
    {
     "name": "stdout",
     "output_type": "stream",
     "text": [
      "Best hyperparameters found:  [3946, 11, 10, 1, 0.11225948052114755, False, 0.29039856900056005, 'iqr', 'both', True, True]\n",
      "Best score:  -0.8253954274794427\n"
     ]
    }
   ],
   "source": [
    "# Perform hyperparameter optimization using Gaussian Process-based Bayesian optimization\n",
    "result = gp_minimize(\n",
    "    func=objective,\n",
    "    dimensions=search_space,\n",
    "    n_calls=30,\n",
    "    random_state=42,\n",
    "    n_initial_points=12,\n",
    "    acq_func=\"EI\"\n",
    ")\n",
    "\n",
    "# Output the best hyperparameters and best score\n",
    "print(\"Best hyperparameters found: \", result.x)\n",
    "print(\"Best score: \", -result.fun)"
   ]
  },
  {
   "cell_type": "code",
   "execution_count": 35,
   "id": "9fcaaa4a",
   "metadata": {},
   "outputs": [
    {
     "data": {
      "text/plain": [
       "<Axes: title={'center': 'Convergence plot'}, xlabel='Number of calls $n$', ylabel='$\\\\min f(x)$ after $n$ calls'>"
      ]
     },
     "execution_count": 35,
     "metadata": {},
     "output_type": "execute_result"
    },
    {
     "data": {
      "image/png": "[encoded data removed]",
      "text/plain": [
       "<Figure size 640x480 with 1 Axes>"
      ]
     },
     "metadata": {},
     "output_type": "display_data"
    }
   ],
   "source": [
    "plot_convergence(result)"
   ]
  },
  {
   "cell_type": "markdown",
   "id": "1cecb5f5",
   "metadata": {},
   "source": [
    "### fitting the model based on best hyperparameter"
   ]
  },
  {
   "cell_type": "code",
   "execution_count": 36,
   "id": "6b725b32",
   "metadata": {},
   "outputs": [
    {
     "data": {
      "text/html": [
       "<style>#sk-container-id-1 {color: black;}#sk-container-id-1 pre{padding: 0;}#sk-container-id-1 div.sk-toggleable {background-color: white;}#sk-container-id-1 label.sk-toggleable__label {cursor: pointer;display: block;width: 100%;margin-bottom: 0;padding: 0.3em;box-sizing: border-box;text-align: center;}#sk-container-id-1 label.sk-toggleable__label-arrow:before {content: \"▸\";float: left;margin-right: 0.25em;color: #696969;}#sk-container-id-1 label.sk-toggleable__label-arrow:hover:before {color: black;}#sk-container-id-1 div.sk-estimator:hover label.sk-toggleable__label-arrow:before {color: black;}#sk-container-id-1 div.sk-toggleable__content {max-height: 0;max-width: 0;overflow: hidden;text-align: left;background-color: #f0f8ff;}#sk-container-id-1 div.sk-toggleable__content pre {margin: 0.2em;color: black;border-radius: 0.25em;background-color: #f0f8ff;}#sk-container-id-1 input.sk-toggleable__control:checked~div.sk-toggleable__content {max-height: 200px;max-width: 100%;overflow: auto;}#sk-container-id-1 input.sk-toggleable__control:checked~label.sk-toggleable__label-arrow:before {content: \"▾\";}#sk-container-id-1 div.sk-estimator input.sk-toggleable__control:checked~label.sk-toggleable__label {background-color: #d4ebff;}#sk-container-id-1 div.sk-label input.sk-toggleable__control:checked~label.sk-toggleable__label {background-color: #d4ebff;}#sk-container-id-1 input.sk-hidden--visually {border: 0;clip: rect(1px 1px 1px 1px);clip: rect(1px, 1px, 1px, 1px);height: 1px;margin: -1px;overflow: hidden;padding: 0;position: absolute;width: 1px;}#sk-container-id-1 div.sk-estimator {font-family: monospace;background-color: #f0f8ff;border: 1px dotted black;border-radius: 0.25em;box-sizing: border-box;margin-bottom: 0.5em;}#sk-container-id-1 div.sk-estimator:hover {background-color: #d4ebff;}#sk-container-id-1 div.sk-parallel-item::after {content: \"\";width: 100%;border-bottom: 1px solid gray;flex-grow: 1;}#sk-container-id-1 div.sk-label:hover label.sk-toggleable__label {background-color: #d4ebff;}#sk-container-id-1 div.sk-serial::before {content: \"\";position: absolute;border-left: 1px solid gray;box-sizing: border-box;top: 0;bottom: 0;left: 50%;z-index: 0;}#sk-container-id-1 div.sk-serial {display: flex;flex-direction: column;align-items: center;background-color: white;padding-right: 0.2em;padding-left: 0.2em;position: relative;}#sk-container-id-1 div.sk-item {position: relative;z-index: 1;}#sk-container-id-1 div.sk-parallel {display: flex;align-items: stretch;justify-content: center;background-color: white;position: relative;}#sk-container-id-1 div.sk-item::before, #sk-container-id-1 div.sk-parallel-item::before {content: \"\";position: absolute;border-left: 1px solid gray;box-sizing: border-box;top: 0;bottom: 0;left: 50%;z-index: -1;}#sk-container-id-1 div.sk-parallel-item {display: flex;flex-direction: column;z-index: 1;position: relative;background-color: white;}#sk-container-id-1 div.sk-parallel-item:first-child::after {align-self: flex-end;width: 50%;}#sk-container-id-1 div.sk-parallel-item:last-child::after {align-self: flex-start;width: 50%;}#sk-container-id-1 div.sk-parallel-item:only-child::after {width: 0;}#sk-container-id-1 div.sk-dashed-wrapped {border: 1px dashed gray;margin: 0 0.4em 0.5em 0.4em;box-sizing: border-box;padding-bottom: 0.4em;background-color: white;}#sk-container-id-1 div.sk-label label {font-family: monospace;font-weight: bold;display: inline-block;line-height: 1.2em;}#sk-container-id-1 div.sk-label-container {text-align: center;}#sk-container-id-1 div.sk-container {/* jupyter's `normalize.less` sets `[hidden] { display: none; }` but bootstrap.min.css set `[hidden] { display: none !important; }` so we also need the `!important` here to be able to override the default hidden behavior on the sphinx rendered scikit-learn.org. See: https://github.com/scikit-learn/scikit-learn/issues/21755 */display: inline-block !important;position: relative;}#sk-container-id-1 div.sk-text-repr-fallback {display: none;}</style><div id=\"sk-container-id-1\" class=\"sk-top-container\"><div class=\"sk-text-repr-fallback\"><pre>Pipeline(steps=[(&#x27;preprocessor&#x27;,\n",
       "                 Pipeline(steps=[(&#x27;imputer&#x27;,\n",
       "                                  ColumnTransformer(remainder=&#x27;passthrough&#x27;,\n",
       "                                                    transformers=[(&#x27;custom_imputer&#x27;,\n",
       "                                                                   CustomMaxImputer(),\n",
       "                                                                   [&#x27;F23&#x27;]),\n",
       "                                                                  (&#x27;general_imputer&#x27;,\n",
       "                                                                   SimpleImputer(),\n",
       "                                                                   [&#x27;F1&#x27;, &#x27;F3&#x27;,\n",
       "                                                                    &#x27;F5&#x27;, &#x27;F6&#x27;,\n",
       "                                                                    &#x27;F8&#x27;, &#x27;F9&#x27;,\n",
       "                                                                    &#x27;F11&#x27;,\n",
       "                                                                    &#x27;F13&#x27;,\n",
       "                                                                    &#x27;F15&#x27;,\n",
       "                                                                    &#x27;F17&#x27;,\n",
       "                                                                    &#x27;F19&#x27;,\n",
       "                                                                    &#x27;F24&#x27;,\n",
       "                                                                    &#x27;F25&#x27;,\n",
       "                                                                    &#x27;F26&#x27;])])),\n",
       "                                 (&#x27;robust_scaler&#x27;, RobustScaler()),\n",
       "                                 (&#x27;winsorizer&#x27;,\n",
       "                                  Winsorizer(capping_method=&#x27;iqr&#x27;,\n",
       "                                             fold=0.29039856900056005,\n",
       "                                             tail=&#x27;both&#x27;)),\n",
       "                                 (&#x27;skewed&#x27;, PowerTransformer()),\n",
       "                                 (&#x27;scaler&#x27;, StandardScaler())])),\n",
       "                (&#x27;regressor&#x27;,\n",
       "                 RandomForestRegressor(bootstrap=False, max_depth=11,\n",
       "                                       max_features=0.11225948052114755,\n",
       "                                       min_samples_split=10, n_estimators=3946,\n",
       "                                       random_state=42))])</pre><b>In a Jupyter environment, please rerun this cell to show the HTML representation or trust the notebook. <br />On GitHub, the HTML representation is unable to render, please try loading this page with nbviewer.org.</b></div><div class=\"sk-container\" hidden><div class=\"sk-item sk-dashed-wrapped\"><div class=\"sk-label-container\"><div class=\"sk-label sk-toggleable\"><input class=\"sk-toggleable__control sk-hidden--visually\" id=\"sk-estimator-id-1\" type=\"checkbox\" ><label for=\"sk-estimator-id-1\" class=\"sk-toggleable__label sk-toggleable__label-arrow\">Pipeline</label><div class=\"sk-toggleable__content\"><pre>Pipeline(steps=[(&#x27;preprocessor&#x27;,\n",
       "                 Pipeline(steps=[(&#x27;imputer&#x27;,\n",
       "                                  ColumnTransformer(remainder=&#x27;passthrough&#x27;,\n",
       "                                                    transformers=[(&#x27;custom_imputer&#x27;,\n",
       "                                                                   CustomMaxImputer(),\n",
       "                                                                   [&#x27;F23&#x27;]),\n",
       "                                                                  (&#x27;general_imputer&#x27;,\n",
       "                                                                   SimpleImputer(),\n",
       "                                                                   [&#x27;F1&#x27;, &#x27;F3&#x27;,\n",
       "                                                                    &#x27;F5&#x27;, &#x27;F6&#x27;,\n",
       "                                                                    &#x27;F8&#x27;, &#x27;F9&#x27;,\n",
       "                                                                    &#x27;F11&#x27;,\n",
       "                                                                    &#x27;F13&#x27;,\n",
       "                                                                    &#x27;F15&#x27;,\n",
       "                                                                    &#x27;F17&#x27;,\n",
       "                                                                    &#x27;F19&#x27;,\n",
       "                                                                    &#x27;F24&#x27;,\n",
       "                                                                    &#x27;F25&#x27;,\n",
       "                                                                    &#x27;F26&#x27;])])),\n",
       "                                 (&#x27;robust_scaler&#x27;, RobustScaler()),\n",
       "                                 (&#x27;winsorizer&#x27;,\n",
       "                                  Winsorizer(capping_method=&#x27;iqr&#x27;,\n",
       "                                             fold=0.29039856900056005,\n",
       "                                             tail=&#x27;both&#x27;)),\n",
       "                                 (&#x27;skewed&#x27;, PowerTransformer()),\n",
       "                                 (&#x27;scaler&#x27;, StandardScaler())])),\n",
       "                (&#x27;regressor&#x27;,\n",
       "                 RandomForestRegressor(bootstrap=False, max_depth=11,\n",
       "                                       max_features=0.11225948052114755,\n",
       "                                       min_samples_split=10, n_estimators=3946,\n",
       "                                       random_state=42))])</pre></div></div></div><div class=\"sk-serial\"><div class=\"sk-item\"><div class=\"sk-label-container\"><div class=\"sk-label sk-toggleable\"><input class=\"sk-toggleable__control sk-hidden--visually\" id=\"sk-estimator-id-2\" type=\"checkbox\" ><label for=\"sk-estimator-id-2\" class=\"sk-toggleable__label sk-toggleable__label-arrow\">preprocessor: Pipeline</label><div class=\"sk-toggleable__content\"><pre>Pipeline(steps=[(&#x27;imputer&#x27;,\n",
       "                 ColumnTransformer(remainder=&#x27;passthrough&#x27;,\n",
       "                                   transformers=[(&#x27;custom_imputer&#x27;,\n",
       "                                                  CustomMaxImputer(), [&#x27;F23&#x27;]),\n",
       "                                                 (&#x27;general_imputer&#x27;,\n",
       "                                                  SimpleImputer(),\n",
       "                                                  [&#x27;F1&#x27;, &#x27;F3&#x27;, &#x27;F5&#x27;, &#x27;F6&#x27;, &#x27;F8&#x27;,\n",
       "                                                   &#x27;F9&#x27;, &#x27;F11&#x27;, &#x27;F13&#x27;, &#x27;F15&#x27;,\n",
       "                                                   &#x27;F17&#x27;, &#x27;F19&#x27;, &#x27;F24&#x27;, &#x27;F25&#x27;,\n",
       "                                                   &#x27;F26&#x27;])])),\n",
       "                (&#x27;robust_scaler&#x27;, RobustScaler()),\n",
       "                (&#x27;winsorizer&#x27;,\n",
       "                 Winsorizer(capping_method=&#x27;iqr&#x27;, fold=0.29039856900056005,\n",
       "                            tail=&#x27;both&#x27;)),\n",
       "                (&#x27;skewed&#x27;, PowerTransformer()), (&#x27;scaler&#x27;, StandardScaler())])</pre></div></div></div><div class=\"sk-serial\"><div class=\"sk-item sk-dashed-wrapped\"><div class=\"sk-label-container\"><div class=\"sk-label sk-toggleable\"><input class=\"sk-toggleable__control sk-hidden--visually\" id=\"sk-estimator-id-3\" type=\"checkbox\" ><label for=\"sk-estimator-id-3\" class=\"sk-toggleable__label sk-toggleable__label-arrow\">imputer: ColumnTransformer</label><div class=\"sk-toggleable__content\"><pre>ColumnTransformer(remainder=&#x27;passthrough&#x27;,\n",
       "                  transformers=[(&#x27;custom_imputer&#x27;, CustomMaxImputer(), [&#x27;F23&#x27;]),\n",
       "                                (&#x27;general_imputer&#x27;, SimpleImputer(),\n",
       "                                 [&#x27;F1&#x27;, &#x27;F3&#x27;, &#x27;F5&#x27;, &#x27;F6&#x27;, &#x27;F8&#x27;, &#x27;F9&#x27;, &#x27;F11&#x27;,\n",
       "                                  &#x27;F13&#x27;, &#x27;F15&#x27;, &#x27;F17&#x27;, &#x27;F19&#x27;, &#x27;F24&#x27;, &#x27;F25&#x27;,\n",
       "                                  &#x27;F26&#x27;])])</pre></div></div></div><div class=\"sk-parallel\"><div class=\"sk-parallel-item\"><div class=\"sk-item\"><div class=\"sk-label-container\"><div class=\"sk-label sk-toggleable\"><input class=\"sk-toggleable__control sk-hidden--visually\" id=\"sk-estimator-id-4\" type=\"checkbox\" ><label for=\"sk-estimator-id-4\" class=\"sk-toggleable__label sk-toggleable__label-arrow\">custom_imputer</label><div class=\"sk-toggleable__content\"><pre>[&#x27;F23&#x27;]</pre></div></div></div><div class=\"sk-serial\"><div class=\"sk-item\"><div class=\"sk-estimator sk-toggleable\"><input class=\"sk-toggleable__control sk-hidden--visually\" id=\"sk-estimator-id-5\" type=\"checkbox\" ><label for=\"sk-estimator-id-5\" class=\"sk-toggleable__label sk-toggleable__label-arrow\">CustomMaxImputer</label><div class=\"sk-toggleable__content\"><pre>CustomMaxImputer()</pre></div></div></div></div></div></div><div class=\"sk-parallel-item\"><div class=\"sk-item\"><div class=\"sk-label-container\"><div class=\"sk-label sk-toggleable\"><input class=\"sk-toggleable__control sk-hidden--visually\" id=\"sk-estimator-id-6\" type=\"checkbox\" ><label for=\"sk-estimator-id-6\" class=\"sk-toggleable__label sk-toggleable__label-arrow\">general_imputer</label><div class=\"sk-toggleable__content\"><pre>[&#x27;F1&#x27;, &#x27;F3&#x27;, &#x27;F5&#x27;, &#x27;F6&#x27;, &#x27;F8&#x27;, &#x27;F9&#x27;, &#x27;F11&#x27;, &#x27;F13&#x27;, &#x27;F15&#x27;, &#x27;F17&#x27;, &#x27;F19&#x27;, &#x27;F24&#x27;, &#x27;F25&#x27;, &#x27;F26&#x27;]</pre></div></div></div><div class=\"sk-serial\"><div class=\"sk-item\"><div class=\"sk-estimator sk-toggleable\"><input class=\"sk-toggleable__control sk-hidden--visually\" id=\"sk-estimator-id-7\" type=\"checkbox\" ><label for=\"sk-estimator-id-7\" class=\"sk-toggleable__label sk-toggleable__label-arrow\">SimpleImputer</label><div class=\"sk-toggleable__content\"><pre>SimpleImputer()</pre></div></div></div></div></div></div><div class=\"sk-parallel-item\"><div class=\"sk-item\"><div class=\"sk-label-container\"><div class=\"sk-label sk-toggleable\"><input class=\"sk-toggleable__control sk-hidden--visually\" id=\"sk-estimator-id-8\" type=\"checkbox\" ><label for=\"sk-estimator-id-8\" class=\"sk-toggleable__label sk-toggleable__label-arrow\">remainder</label><div class=\"sk-toggleable__content\"><pre>[]</pre></div></div></div><div class=\"sk-serial\"><div class=\"sk-item\"><div class=\"sk-estimator sk-toggleable\"><input class=\"sk-toggleable__control sk-hidden--visually\" id=\"sk-estimator-id-9\" type=\"checkbox\" ><label for=\"sk-estimator-id-9\" class=\"sk-toggleable__label sk-toggleable__label-arrow\">passthrough</label><div class=\"sk-toggleable__content\"><pre>passthrough</pre></div></div></div></div></div></div></div></div><div class=\"sk-item\"><div class=\"sk-estimator sk-toggleable\"><input class=\"sk-toggleable__control sk-hidden--visually\" id=\"sk-estimator-id-10\" type=\"checkbox\" ><label for=\"sk-estimator-id-10\" class=\"sk-toggleable__label sk-toggleable__label-arrow\">RobustScaler</label><div class=\"sk-toggleable__content\"><pre>RobustScaler()</pre></div></div></div><div class=\"sk-item\"><div class=\"sk-estimator sk-toggleable\"><input class=\"sk-toggleable__control sk-hidden--visually\" id=\"sk-estimator-id-11\" type=\"checkbox\" ><label for=\"sk-estimator-id-11\" class=\"sk-toggleable__label sk-toggleable__label-arrow\">Winsorizer</label><div class=\"sk-toggleable__content\"><pre>Winsorizer(capping_method=&#x27;iqr&#x27;, fold=0.29039856900056005, tail=&#x27;both&#x27;)</pre></div></div></div><div class=\"sk-item\"><div class=\"sk-estimator sk-toggleable\"><input class=\"sk-toggleable__control sk-hidden--visually\" id=\"sk-estimator-id-12\" type=\"checkbox\" ><label for=\"sk-estimator-id-12\" class=\"sk-toggleable__label sk-toggleable__label-arrow\">PowerTransformer</label><div class=\"sk-toggleable__content\"><pre>PowerTransformer()</pre></div></div></div><div class=\"sk-item\"><div class=\"sk-estimator sk-toggleable\"><input class=\"sk-toggleable__control sk-hidden--visually\" id=\"sk-estimator-id-13\" type=\"checkbox\" ><label for=\"sk-estimator-id-13\" class=\"sk-toggleable__label sk-toggleable__label-arrow\">StandardScaler</label><div class=\"sk-toggleable__content\"><pre>StandardScaler()</pre></div></div></div></div></div><div class=\"sk-item\"><div class=\"sk-estimator sk-toggleable\"><input class=\"sk-toggleable__control sk-hidden--visually\" id=\"sk-estimator-id-14\" type=\"checkbox\" ><label for=\"sk-estimator-id-14\" class=\"sk-toggleable__label sk-toggleable__label-arrow\">RandomForestRegressor</label><div class=\"sk-toggleable__content\"><pre>RandomForestRegressor(bootstrap=False, max_depth=11,\n",
       "                      max_features=0.11225948052114755, min_samples_split=10,\n",
       "                      n_estimators=3946, random_state=42)</pre></div></div></div></div></div></div></div>"
      ],
      "text/plain": [
       "Pipeline(steps=[('preprocessor',\n",
       "                 Pipeline(steps=[('imputer',\n",
       "                                  ColumnTransformer(remainder='passthrough',\n",
       "                                                    transformers=[('custom_imputer',\n",
       "                                                                   CustomMaxImputer(),\n",
       "                                                                   ['F23']),\n",
       "                                                                  ('general_imputer',\n",
       "                                                                   SimpleImputer(),\n",
       "                                                                   ['F1', 'F3',\n",
       "                                                                    'F5', 'F6',\n",
       "                                                                    'F8', 'F9',\n",
       "                                                                    'F11',\n",
       "                                                                    'F13',\n",
       "                                                                    'F15',\n",
       "                                                                    'F17',\n",
       "                                                                    'F19',\n",
       "                                                                    'F24',\n",
       "                                                                    'F25',\n",
       "                                                                    'F26'])])),\n",
       "                                 ('robust_scaler', RobustScaler()),\n",
       "                                 ('winsorizer',\n",
       "                                  Winsorizer(capping_method='iqr',\n",
       "                                             fold=0.29039856900056005,\n",
       "                                             tail='both')),\n",
       "                                 ('skewed', PowerTransformer()),\n",
       "                                 ('scaler', StandardScaler())])),\n",
       "                ('regressor',\n",
       "                 RandomForestRegressor(bootstrap=False, max_depth=11,\n",
       "                                       max_features=0.11225948052114755,\n",
       "                                       min_samples_split=10, n_estimators=3946,\n",
       "                                       random_state=42))])"
      ]
     },
     "execution_count": 36,
     "metadata": {},
     "output_type": "execute_result"
    }
   ],
   "source": [
    "# Fit the pipeline with the best parameters on the entire training set\n",
    "best_params = dict(zip([param.name for param in search_space], result.x))\n",
    "model.set_params(**best_params)\n",
    "model.fit(X_train, y_train_scaled)  # Fit with winsorized and scaled target"
   ]
  },
  {
   "cell_type": "code",
   "execution_count": 37,
   "id": "a07f7fc5",
   "metadata": {},
   "outputs": [],
   "source": [
    "# Apply the same transformations to the test target variable\n",
    "# Scale y_test using the fitted RobustScaler\n",
    "y_test_robust_scaled = target_scaler.transform(y_test.to_frame()).ravel()\n",
    "\n",
    "# Transform y_test using the fitted Yeo-Johnson transformer\n",
    "y_test_scaled = yeo_transformer.transform(y_test_robust_scaled.reshape(-1, 1)).ravel()"
   ]
  },
  {
   "cell_type": "code",
   "execution_count": 38,
   "id": "7d13745a",
   "metadata": {},
   "outputs": [],
   "source": [
    "# Predict on test set\n",
    "y_pred = model.predict(X_test)"
   ]
  },
  {
   "cell_type": "markdown",
   "id": "65226356",
   "metadata": {},
   "source": [
    "### evaluation the model"
   ]
  },
  {
   "cell_type": "code",
   "execution_count": 39,
   "id": "fc424c2c",
   "metadata": {},
   "outputs": [
    {
     "name": "stdout",
     "output_type": "stream",
     "text": [
      "R²:  0.31570159935452646\n",
      "MSE:  0.5856087575629507\n",
      "RMSE:  0.7652507808313238\n",
      "MAE:  0.6250413631940617\n"
     ]
    }
   ],
   "source": [
    "# Calculate evaluation metrics\n",
    "r2 = r2_score(y_test_scaled, y_pred)\n",
    "mse = mean_squared_error(y_test_scaled, y_pred)\n",
    "rmse = np.sqrt(mse)\n",
    "mae = mean_absolute_error(y_test_scaled, y_pred)\n",
    "\n",
    "# Output the metrics\n",
    "print(\"R²: \", r2)\n",
    "print(\"MSE: \", mse)\n",
    "print(\"RMSE: \", rmse)\n",
    "print(\"MAE: \", mae)"
   ]
  },
  {
   "cell_type": "code",
   "execution_count": 40,
   "id": "275d83b7",
   "metadata": {},
   "outputs": [
    {
     "name": "stdout",
     "output_type": "stream",
     "text": [
      "max = 2.8944810091272553\n",
      "min = -1.911233530638133\n",
      "mean = 0.015500883301042559\n",
      "median = -0.12362310115606456\n"
     ]
    }
   ],
   "source": [
    "print(f\"max = {max(y_test_scaled)}\")\n",
    "print(f\"min = {min(y_test_scaled)}\")\n",
    "print(f\"mean = {np.mean(y_test_scaled)}\")\n",
    "print(f\"median = {np.median(y_test_scaled)}\")"
   ]
  },
  {
   "cell_type": "markdown",
   "id": "c5326430",
   "metadata": {},
   "source": [
    "### feature importance"
   ]
  },
  {
   "cell_type": "markdown",
   "id": "8d214dad",
   "metadata": {},
   "source": [
    "##  Cross-Validation Check"
   ]
  },
  {
   "cell_type": "code",
   "execution_count": null,
   "id": "0d70ef34",
   "metadata": {},
   "outputs": [],
   "source": [
    "# Perform cross-validation\n",
    "cv_scores = cross_val_score(model, X_train, y_train_scaled, cv=5, scoring='neg_mean_squared_error')\n",
    "\n",
    "# Print mean and standard deviation of cross-validation scores\n",
    "print(f\"CV Mean MSE: {-cv_scores.mean()}\")\n",
    "print(f\"CV Std MSE: {cv_scores.std()}\")"
   ]
  },
  {
   "cell_type": "markdown",
   "id": "88164f35",
   "metadata": {},
   "source": [
    "### deployment"
   ]
  },
  {
   "cell_type": "code",
   "execution_count": 38,
   "id": "56e485e9",
   "metadata": {},
   "outputs": [
    {
     "data": {
      "text/plain": [
       "['./new data/output/processed/13-trained_model_RandomForestReg_targetscaled_baseon5_R2score_witout_skewed_robustscaler.pkl']"
      ]
     },
     "execution_count": 38,
     "metadata": {},
     "output_type": "execute_result"
    }
   ],
   "source": [
    "joblib.dump(model, './new data/output/processed/13-trained_model_RandomForestReg_targetscaled_baseon5_R2score_witout_skewed_robustscaler.pkl')"
   ]
  },
  {
   "cell_type": "code",
   "execution_count": null,
   "id": "03fc96d3",
   "metadata": {},
   "outputs": [],
   "source": []
  }
 ],
 "metadata": {
  "kernelspec": {
   "display_name": "Python 3 (ipykernel)",
   "language": "python",
   "name": "python3"
  },
  "language_info": {
   "codemirror_mode": {
    "name": "ipython",
    "version": 3
   },
   "file_extension": ".py",
   "mimetype": "text/x-python",
   "name": "python",
   "nbconvert_exporter": "python",
   "pygments_lexer": "ipython3",
   "version": "3.11.5"
  }
 },
 "nbformat": 4,
 "nbformat_minor": 5
}
